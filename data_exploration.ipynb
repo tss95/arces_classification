{
 "cells": [
  {
   "cell_type": "code",
   "execution_count": 10,
   "metadata": {},
   "outputs": [],
   "source": [
    "# Your existing imports and setup here\n",
    "from global_config import logger, cfg\n",
    "import pandas as pd\n",
    "import numpy as np\n",
    "from sklearn.model_selection import train_test_split\n",
    "import json\n",
    "from tqdm import tqdm\n",
    "import os\n",
    "import h5py\n",
    "\n",
    "# Paths\n",
    "data_csv_path = cfg.paths.data_csv\n",
    "data_path = cfg.paths.data_path\n",
    "output_folder = cfg.paths.output_folder\n",
    "\n"
   ]
  },
  {
   "cell_type": "code",
   "execution_count": 3,
   "metadata": {},
   "outputs": [],
   "source": []
  },
  {
   "cell_type": "code",
   "execution_count": 23,
   "metadata": {},
   "outputs": [
    {
     "name": "stderr",
     "output_type": "stream",
     "text": [
      "Loading train:   0%|          | 0/180930 [00:00<?, ?it/s]"
     ]
    },
    {
     "name": "stderr",
     "output_type": "stream",
     "text": [
      "Loading train:   0%|          | 261/180930 [00:13<2:31:14, 19.91it/s]\n"
     ]
    },
    {
     "ename": "KeyboardInterrupt",
     "evalue": "",
     "output_type": "error",
     "traceback": [
      "\u001b[0;31m---------------------------------------------------------------------------\u001b[0m",
      "\u001b[0;31mKeyboardInterrupt\u001b[0m                         Traceback (most recent call last)",
      "Cell \u001b[0;32mIn[23], line 32\u001b[0m\n\u001b[1;32m     30\u001b[0m logger\u001b[39m.\u001b[39minfo(\u001b[39m\"\u001b[39m\u001b[39mLoading and saving the data.\u001b[39m\u001b[39m\"\u001b[39m)\n\u001b[1;32m     31\u001b[0m \u001b[39mfor\u001b[39;00m dataset, name \u001b[39min\u001b[39;00m [(train_data, \u001b[39m'\u001b[39m\u001b[39mtrain\u001b[39m\u001b[39m'\u001b[39m), (val_data, \u001b[39m'\u001b[39m\u001b[39mval\u001b[39m\u001b[39m'\u001b[39m), (test_data, \u001b[39m'\u001b[39m\u001b[39mtest\u001b[39m\u001b[39m'\u001b[39m)]:\n\u001b[0;32m---> 32\u001b[0m     traces, labels, metadata \u001b[39m=\u001b[39m load_data(dataset[\u001b[39m\"\u001b[39;49m\u001b[39mfilename\u001b[39;49m\u001b[39m\"\u001b[39;49m], name)\n\u001b[1;32m     33\u001b[0m \u001b[39m#    np.save(os.path.join(output_folder, f'{name}_traces.npy'), traces)\u001b[39;00m\n\u001b[1;32m     34\u001b[0m \u001b[39m#    np.save(os.path.join(output_folder, f'{name}_labels.npy'), labels)\u001b[39;00m\n\u001b[1;32m     35\u001b[0m \u001b[39m#    np.save(os.path.join(output_folder, f'{name}_metadata.npy'), metadata)\u001b[39;00m\n\u001b[1;32m     38\u001b[0m logger\u001b[39m.\u001b[39minfo(\u001b[39m\"\u001b[39m\u001b[39mData preparation completed.\u001b[39m\u001b[39m\"\u001b[39m)\n",
      "Cell \u001b[0;32mIn[23], line 17\u001b[0m, in \u001b[0;36mload_data\u001b[0;34m(dataset, dataset_desc)\u001b[0m\n\u001b[1;32m     15\u001b[0m core_path \u001b[39m=\u001b[39m cfg\u001b[39m.\u001b[39mpaths\u001b[39m.\u001b[39mdata_path\n\u001b[1;32m     16\u001b[0m \u001b[39mfor\u001b[39;00m path \u001b[39min\u001b[39;00m tqdm(dataset, desc\u001b[39m=\u001b[39m\u001b[39mf\u001b[39m\u001b[39m\"\u001b[39m\u001b[39mLoading \u001b[39m\u001b[39m{\u001b[39;00mdataset_desc\u001b[39m}\u001b[39;00m\u001b[39m\"\u001b[39m):\n\u001b[0;32m---> 17\u001b[0m     trace, meta \u001b[39m=\u001b[39m path_to_trace(core_path\u001b[39m+\u001b[39;49m\u001b[39m'\u001b[39;49m\u001b[39m/\u001b[39;49m\u001b[39m'\u001b[39;49m\u001b[39m+\u001b[39;49mpath)\n\u001b[1;32m     18\u001b[0m     metadata[path] \u001b[39m=\u001b[39m meta\n\u001b[1;32m     19\u001b[0m     \u001b[39mtry\u001b[39;00m:\n",
      "Cell \u001b[0;32mIn[23], line 4\u001b[0m, in \u001b[0;36mpath_to_trace\u001b[0;34m(path)\u001b[0m\n\u001b[1;32m      2\u001b[0m \u001b[39mdef\u001b[39;00m \u001b[39mpath_to_trace\u001b[39m(path):\n\u001b[1;32m      3\u001b[0m     \u001b[39mwith\u001b[39;00m h5py\u001b[39m.\u001b[39mFile(path, \u001b[39m'\u001b[39m\u001b[39mr\u001b[39m\u001b[39m'\u001b[39m) \u001b[39mas\u001b[39;00m dp:\n\u001b[0;32m----> 4\u001b[0m         trace_array \u001b[39m=\u001b[39m np\u001b[39m.\u001b[39marray(dp\u001b[39m.\u001b[39mget(\u001b[39m'\u001b[39m\u001b[39mtraces\u001b[39m\u001b[39m'\u001b[39m))\n\u001b[1;32m      5\u001b[0m         info \u001b[39m=\u001b[39m np\u001b[39m.\u001b[39marray(dp\u001b[39m.\u001b[39mget(\u001b[39m'\u001b[39m\u001b[39mevent_info\u001b[39m\u001b[39m'\u001b[39m))\n\u001b[1;32m      6\u001b[0m         info \u001b[39m=\u001b[39m \u001b[39mstr\u001b[39m(info)    \n",
      "File \u001b[0;32mh5py/_objects.pyx:54\u001b[0m, in \u001b[0;36mh5py._objects.with_phil.wrapper\u001b[0;34m()\u001b[0m\n",
      "File \u001b[0;32mh5py/_objects.pyx:55\u001b[0m, in \u001b[0;36mh5py._objects.with_phil.wrapper\u001b[0;34m()\u001b[0m\n",
      "File \u001b[0;32m~/miniconda3/envs/arces/lib/python3.11/site-packages/h5py/_hl/dataset.py:1063\u001b[0m, in \u001b[0;36mDataset.__array__\u001b[0;34m(self, dtype)\u001b[0m\n\u001b[1;32m   1060\u001b[0m \u001b[39mif\u001b[39;00m \u001b[39mself\u001b[39m\u001b[39m.\u001b[39msize \u001b[39m==\u001b[39m \u001b[39m0\u001b[39m:\n\u001b[1;32m   1061\u001b[0m     \u001b[39mreturn\u001b[39;00m arr\n\u001b[0;32m-> 1063\u001b[0m \u001b[39mself\u001b[39;49m\u001b[39m.\u001b[39;49mread_direct(arr)\n\u001b[1;32m   1064\u001b[0m \u001b[39mreturn\u001b[39;00m arr\n",
      "File \u001b[0;32m~/miniconda3/envs/arces/lib/python3.11/site-packages/h5py/_hl/dataset.py:1024\u001b[0m, in \u001b[0;36mDataset.read_direct\u001b[0;34m(self, dest, source_sel, dest_sel)\u001b[0m\n\u001b[1;32m   1021\u001b[0m     dest_sel \u001b[39m=\u001b[39m sel\u001b[39m.\u001b[39mselect(dest\u001b[39m.\u001b[39mshape, dest_sel)\n\u001b[1;32m   1023\u001b[0m \u001b[39mfor\u001b[39;00m mspace \u001b[39min\u001b[39;00m dest_sel\u001b[39m.\u001b[39mbroadcast(source_sel\u001b[39m.\u001b[39marray_shape):\n\u001b[0;32m-> 1024\u001b[0m     \u001b[39mself\u001b[39;49m\u001b[39m.\u001b[39;49mid\u001b[39m.\u001b[39;49mread(mspace, fspace, dest, dxpl\u001b[39m=\u001b[39;49m\u001b[39mself\u001b[39;49m\u001b[39m.\u001b[39;49m_dxpl)\n",
      "\u001b[0;31mKeyboardInterrupt\u001b[0m: "
     ]
    }
   ],
   "source": []
  },
  {
   "cell_type": "code",
   "execution_count": 12,
   "metadata": {},
   "outputs": [
    {
     "data": {
      "text/html": [
       "<div>\n",
       "<style scoped>\n",
       "    .dataframe tbody tr th:only-of-type {\n",
       "        vertical-align: middle;\n",
       "    }\n",
       "\n",
       "    .dataframe tbody tr th {\n",
       "        vertical-align: top;\n",
       "    }\n",
       "\n",
       "    .dataframe thead th {\n",
       "        text-align: right;\n",
       "    }\n",
       "</style>\n",
       "<table border=\"1\" class=\"dataframe\">\n",
       "  <thead>\n",
       "    <tr style=\"text-align: right;\">\n",
       "      <th></th>\n",
       "      <th>filename</th>\n",
       "      <th>timestamp</th>\n",
       "    </tr>\n",
       "  </thead>\n",
       "  <tbody>\n",
       "    <tr>\n",
       "      <th>30821</th>\n",
       "      <td>explosions/2008-09-07T22.08.34.762000Z.h5</td>\n",
       "      <td>2008-09-07 22:00:00</td>\n",
       "    </tr>\n",
       "    <tr>\n",
       "      <th>192350</th>\n",
       "      <td>noise/2012-10-22T22.13.22.000000Z.h5</td>\n",
       "      <td>2012-10-22 22:00:00</td>\n",
       "    </tr>\n",
       "    <tr>\n",
       "      <th>59419</th>\n",
       "      <td>explosions/2013-04-14T13.37.28.781000Z.h5</td>\n",
       "      <td>2013-04-14 13:00:00</td>\n",
       "    </tr>\n",
       "    <tr>\n",
       "      <th>1571</th>\n",
       "      <td>earthquakes/2008-06-22T18.01.21.392000Z.h5</td>\n",
       "      <td>2008-06-22 18:00:00</td>\n",
       "    </tr>\n",
       "    <tr>\n",
       "      <th>110384</th>\n",
       "      <td>explosions/2019-04-27T22.06.21.183000Z.h5</td>\n",
       "      <td>2019-04-27 22:00:00</td>\n",
       "    </tr>\n",
       "    <tr>\n",
       "      <th>...</th>\n",
       "      <td>...</td>\n",
       "      <td>...</td>\n",
       "    </tr>\n",
       "    <tr>\n",
       "      <th>176861</th>\n",
       "      <td>noise/2009-11-12T20.44.21.000000Z.h5</td>\n",
       "      <td>2009-11-12 20:00:00</td>\n",
       "    </tr>\n",
       "    <tr>\n",
       "      <th>227409</th>\n",
       "      <td>noise/2019-04-28T01.39.51.000000Z.h5</td>\n",
       "      <td>2019-04-28 01:00:00</td>\n",
       "    </tr>\n",
       "    <tr>\n",
       "      <th>54067</th>\n",
       "      <td>explosions/2012-08-13T01.28.26.923000Z.h5</td>\n",
       "      <td>2012-08-13 01:00:00</td>\n",
       "    </tr>\n",
       "    <tr>\n",
       "      <th>184582</th>\n",
       "      <td>noise/2011-04-21T16.05.49.000000Z.h5</td>\n",
       "      <td>2011-04-21 16:00:00</td>\n",
       "    </tr>\n",
       "    <tr>\n",
       "      <th>82387</th>\n",
       "      <td>explosions/2016-03-02T23.02.14.608000Z.h5</td>\n",
       "      <td>2016-03-02 23:00:00</td>\n",
       "    </tr>\n",
       "  </tbody>\n",
       "</table>\n",
       "<p>13570 rows × 2 columns</p>\n",
       "</div>"
      ],
      "text/plain": [
       "                                          filename           timestamp\n",
       "30821    explosions/2008-09-07T22.08.34.762000Z.h5 2008-09-07 22:00:00\n",
       "192350        noise/2012-10-22T22.13.22.000000Z.h5 2012-10-22 22:00:00\n",
       "59419    explosions/2013-04-14T13.37.28.781000Z.h5 2013-04-14 13:00:00\n",
       "1571    earthquakes/2008-06-22T18.01.21.392000Z.h5 2008-06-22 18:00:00\n",
       "110384   explosions/2019-04-27T22.06.21.183000Z.h5 2019-04-27 22:00:00\n",
       "...                                            ...                 ...\n",
       "176861        noise/2009-11-12T20.44.21.000000Z.h5 2009-11-12 20:00:00\n",
       "227409        noise/2019-04-28T01.39.51.000000Z.h5 2019-04-28 01:00:00\n",
       "54067    explosions/2012-08-13T01.28.26.923000Z.h5 2012-08-13 01:00:00\n",
       "184582        noise/2011-04-21T16.05.49.000000Z.h5 2011-04-21 16:00:00\n",
       "82387    explosions/2016-03-02T23.02.14.608000Z.h5 2016-03-02 23:00:00\n",
       "\n",
       "[13570 rows x 2 columns]"
      ]
     },
     "execution_count": 12,
     "metadata": {},
     "output_type": "execute_result"
    }
   ],
   "source": [
    "test_data"
   ]
  },
  {
   "cell_type": "code",
   "execution_count": null,
   "metadata": {},
   "outputs": [],
   "source": []
  }
 ],
 "metadata": {
  "kernelspec": {
   "display_name": "fybr_linux",
   "language": "python",
   "name": "python3"
  },
  "language_info": {
   "codemirror_mode": {
    "name": "ipython",
    "version": 3
   },
   "file_extension": ".py",
   "mimetype": "text/x-python",
   "name": "python",
   "nbconvert_exporter": "python",
   "pygments_lexer": "ipython3",
   "version": "3.11.4"
  },
  "orig_nbformat": 4
 },
 "nbformat": 4,
 "nbformat_minor": 2
}
